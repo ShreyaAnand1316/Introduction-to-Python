{
  "nbformat": 4,
  "nbformat_minor": 0,
  "metadata": {
    "colab": {
      "provenance": [],
      "authorship_tag": "ABX9TyN+STr8tE+DPmLtoUcqUtAy",
      "include_colab_link": true
    },
    "kernelspec": {
      "name": "python3",
      "display_name": "Python 3"
    },
    "language_info": {
      "name": "python"
    }
  },
  "cells": [
    {
      "cell_type": "markdown",
      "metadata": {
        "id": "view-in-github",
        "colab_type": "text"
      },
      "source": [
        "<a href=\"https://colab.research.google.com/github/ShreyaAnand1316/Introduction-to-Python/blob/main/01_Basics.ipynb\" target=\"_parent\"><img src=\"https://colab.research.google.com/assets/colab-badge.svg\" alt=\"Open In Colab\"/></a>"
      ]
    },
    {
      "cell_type": "code",
      "execution_count": 1,
      "metadata": {
        "colab": {
          "base_uri": "https://localhost:8080/"
        },
        "id": "ofofR6akgzod",
        "outputId": "4ea50378-96df-4ec1-e98b-3628649906cd"
      },
      "outputs": [
        {
          "output_type": "execute_result",
          "data": {
            "text/plain": [
              "28"
            ]
          },
          "metadata": {},
          "execution_count": 1
        }
      ],
      "source": [
        "13+15"
      ]
    },
    {
      "cell_type": "code",
      "source": [
        "56*45\n",
        "\n"
      ],
      "metadata": {
        "colab": {
          "base_uri": "https://localhost:8080/"
        },
        "id": "IA2Z9EnGiSP1",
        "outputId": "64f26370-0df3-4b9d-d88e-739e68a2de75"
      },
      "execution_count": 2,
      "outputs": [
        {
          "output_type": "execute_result",
          "data": {
            "text/plain": [
              "2520"
            ]
          },
          "metadata": {},
          "execution_count": 2
        }
      ]
    },
    {
      "cell_type": "code",
      "source": [
        "25-4"
      ],
      "metadata": {
        "colab": {
          "base_uri": "https://localhost:8080/"
        },
        "id": "hQgf0Tmfijii",
        "outputId": "92240b62-2a66-451c-da64-ed57be952f8c"
      },
      "execution_count": 3,
      "outputs": [
        {
          "output_type": "execute_result",
          "data": {
            "text/plain": [
              "21"
            ]
          },
          "metadata": {},
          "execution_count": 3
        }
      ]
    },
    {
      "cell_type": "code",
      "source": [
        "106/4"
      ],
      "metadata": {
        "colab": {
          "base_uri": "https://localhost:8080/"
        },
        "id": "o3GFHKLGippb",
        "outputId": "eca97d16-3e12-4434-8cd2-cd799df03e1f"
      },
      "execution_count": 4,
      "outputs": [
        {
          "output_type": "execute_result",
          "data": {
            "text/plain": [
              "26.5"
            ]
          },
          "metadata": {},
          "execution_count": 4
        }
      ]
    },
    {
      "cell_type": "code",
      "source": [
        "x=10\n"
      ],
      "metadata": {
        "id": "o4_x06e_isYj"
      },
      "execution_count": 5,
      "outputs": []
    },
    {
      "cell_type": "code",
      "source": [
        "print(x)"
      ],
      "metadata": {
        "colab": {
          "base_uri": "https://localhost:8080/"
        },
        "id": "gTn-3QzQjH1v",
        "outputId": "070492b1-8b12-4345-d1b4-0af4e09fad7b"
      },
      "execution_count": 6,
      "outputs": [
        {
          "output_type": "stream",
          "name": "stdout",
          "text": [
            "10\n"
          ]
        }
      ]
    },
    {
      "cell_type": "code",
      "source": [
        "y=20"
      ],
      "metadata": {
        "id": "Kro21RP4jOmQ"
      },
      "execution_count": 7,
      "outputs": []
    },
    {
      "cell_type": "code",
      "source": [
        "print(x,y)"
      ],
      "metadata": {
        "colab": {
          "base_uri": "https://localhost:8080/"
        },
        "id": "U1-Vr-WNjnv4",
        "outputId": "2f62d9bb-cd36-44a5-d9be-2feac37f428e"
      },
      "execution_count": 8,
      "outputs": [
        {
          "output_type": "stream",
          "name": "stdout",
          "text": [
            "10 20\n"
          ]
        }
      ]
    },
    {
      "cell_type": "code",
      "source": [
        "print(x+y)"
      ],
      "metadata": {
        "colab": {
          "base_uri": "https://localhost:8080/"
        },
        "id": "8lbc1SRpjpxE",
        "outputId": "1335fa84-6f0f-47a7-e23e-6766dcf8ac86"
      },
      "execution_count": 9,
      "outputs": [
        {
          "output_type": "stream",
          "name": "stdout",
          "text": [
            "30\n"
          ]
        }
      ]
    },
    {
      "cell_type": "code",
      "source": [
        "print (x-y)"
      ],
      "metadata": {
        "colab": {
          "base_uri": "https://localhost:8080/"
        },
        "id": "J5XE5odskI_K",
        "outputId": "9be1e733-2272-43a4-912c-5578e4de0934"
      },
      "execution_count": 10,
      "outputs": [
        {
          "output_type": "stream",
          "name": "stdout",
          "text": [
            "-10\n"
          ]
        }
      ]
    },
    {
      "cell_type": "code",
      "source": [
        "print(x*y)\n",
        "print(x/y)"
      ],
      "metadata": {
        "colab": {
          "base_uri": "https://localhost:8080/"
        },
        "id": "Tx1INocrkLeN",
        "outputId": "0a5cf054-bdf8-476c-b557-6b01e2f9cdbe"
      },
      "execution_count": 11,
      "outputs": [
        {
          "output_type": "stream",
          "name": "stdout",
          "text": [
            "200\n",
            "0.5\n"
          ]
        }
      ]
    },
    {
      "cell_type": "code",
      "source": [
        "x= 'shreya'\n",
        "print(x)"
      ],
      "metadata": {
        "colab": {
          "base_uri": "https://localhost:8080/"
        },
        "id": "APSDFLpNkPPV",
        "outputId": "114440e2-d617-4a72-b518-8672110ca22d"
      },
      "execution_count": 12,
      "outputs": [
        {
          "output_type": "stream",
          "name": "stdout",
          "text": [
            "shreya\n"
          ]
        }
      ]
    },
    {
      "cell_type": "code",
      "source": [
        "x= \"shreya\"\n",
        "print(x[0:6])\n"
      ],
      "metadata": {
        "colab": {
          "base_uri": "https://localhost:8080/"
        },
        "id": "_UVOY5RmlLKH",
        "outputId": "d6e6fad5-4923-4c9b-aaf8-f99fff024710"
      },
      "execution_count": 13,
      "outputs": [
        {
          "output_type": "stream",
          "name": "stdout",
          "text": [
            "shreya\n"
          ]
        }
      ]
    },
    {
      "cell_type": "code",
      "source": [
        "x= \"shreya\"\n",
        "print(x[0])"
      ],
      "metadata": {
        "colab": {
          "base_uri": "https://localhost:8080/"
        },
        "id": "r5Op40HMm-eZ",
        "outputId": "285a3fd9-a376-41f4-a0fb-f5ba2ba77ee4"
      },
      "execution_count": 14,
      "outputs": [
        {
          "output_type": "stream",
          "name": "stdout",
          "text": [
            "s\n"
          ]
        }
      ]
    },
    {
      "cell_type": "code",
      "source": [
        "x= \"shreya\"\n",
        "print(x[-6])"
      ],
      "metadata": {
        "colab": {
          "base_uri": "https://localhost:8080/"
        },
        "id": "YEfmbFK_oqpw",
        "outputId": "33981a73-b5a1-4657-c81c-9977973c6654"
      },
      "execution_count": 15,
      "outputs": [
        {
          "output_type": "stream",
          "name": "stdout",
          "text": [
            "s\n"
          ]
        }
      ]
    },
    {
      "cell_type": "code",
      "source": [
        "x= \"shreya deep anand\"\n",
        "print(x[0:6])"
      ],
      "metadata": {
        "colab": {
          "base_uri": "https://localhost:8080/"
        },
        "id": "nwphg_HGot9x",
        "outputId": "db5448ad-3ea6-4b6a-cef8-5ce37288c50d"
      },
      "execution_count": 16,
      "outputs": [
        {
          "output_type": "stream",
          "name": "stdout",
          "text": [
            "shreya\n"
          ]
        }
      ]
    },
    {
      "cell_type": "code",
      "source": [
        "x= \"shreya deep anand\"\n",
        "print(x[7:11])"
      ],
      "metadata": {
        "colab": {
          "base_uri": "https://localhost:8080/"
        },
        "id": "Vix50_rqozEd",
        "outputId": "fd8e0c8a-c0be-41f3-e867-9a110c5f7038"
      },
      "execution_count": 17,
      "outputs": [
        {
          "output_type": "stream",
          "name": "stdout",
          "text": [
            "deep\n"
          ]
        }
      ]
    },
    {
      "cell_type": "code",
      "source": [
        "x= \"shreya deep anand\"\n",
        "print(x[-17:-11])"
      ],
      "metadata": {
        "colab": {
          "base_uri": "https://localhost:8080/"
        },
        "id": "pOyFE9NlpMVq",
        "outputId": "646c9afb-bf7a-453a-a717-21216a3caa50"
      },
      "execution_count": 18,
      "outputs": [
        {
          "output_type": "stream",
          "name": "stdout",
          "text": [
            "shreya\n"
          ]
        }
      ]
    },
    {
      "cell_type": "code",
      "source": [
        "x= \"shreya deep anand\"\n",
        "print(x[-1:])"
      ],
      "metadata": {
        "colab": {
          "base_uri": "https://localhost:8080/"
        },
        "id": "spcC9C2zqbGg",
        "outputId": "41352c85-93b0-4537-8632-ea11eb8a6b57"
      },
      "execution_count": 19,
      "outputs": [
        {
          "output_type": "stream",
          "name": "stdout",
          "text": [
            "d\n"
          ]
        }
      ]
    },
    {
      "cell_type": "code",
      "source": [
        "x=\"shreya\"\n",
        "y=\"deep\"\n",
        "print(x+y)"
      ],
      "metadata": {
        "colab": {
          "base_uri": "https://localhost:8080/"
        },
        "id": "phHvyRVbuOzZ",
        "outputId": "2e402137-2ae4-4f39-c3e8-b1bd409c8cdf"
      },
      "execution_count": 20,
      "outputs": [
        {
          "output_type": "stream",
          "name": "stdout",
          "text": [
            "shreyadeep\n"
          ]
        }
      ]
    },
    {
      "cell_type": "code",
      "source": [
        "x=\"shreya\"\n",
        "y=\"deep\"\n",
        "print(x+\" \"+y)"
      ],
      "metadata": {
        "colab": {
          "base_uri": "https://localhost:8080/"
        },
        "id": "5J9FfyPlwCSN",
        "outputId": "5d7bf88d-27d9-4fad-c9dc-86346cb1b24d"
      },
      "execution_count": 21,
      "outputs": [
        {
          "output_type": "stream",
          "name": "stdout",
          "text": [
            "shreya deep\n"
          ]
        }
      ]
    },
    {
      "cell_type": "code",
      "source": [
        "x=10\n",
        "print(type(x))"
      ],
      "metadata": {
        "colab": {
          "base_uri": "https://localhost:8080/"
        },
        "id": "HzT0s2r5wXbC",
        "outputId": "ff0b53ef-314d-4dbc-db01-c61f62d8fb99"
      },
      "execution_count": 22,
      "outputs": [
        {
          "output_type": "stream",
          "name": "stdout",
          "text": [
            "<class 'int'>\n"
          ]
        }
      ]
    },
    {
      "cell_type": "code",
      "source": [
        "x=10.5\n",
        "print(type(x))"
      ],
      "metadata": {
        "colab": {
          "base_uri": "https://localhost:8080/"
        },
        "id": "D2YK-VwgwZis",
        "outputId": "7074f7bb-e53e-491b-d623-13e0cd67c455"
      },
      "execution_count": 23,
      "outputs": [
        {
          "output_type": "stream",
          "name": "stdout",
          "text": [
            "<class 'float'>\n"
          ]
        }
      ]
    },
    {
      "cell_type": "code",
      "source": [
        "4\n",
        "x=input(\"enter your name:\")"
      ],
      "metadata": {
        "colab": {
          "base_uri": "https://localhost:8080/"
        },
        "id": "AC2jT99Mwbyu",
        "outputId": "e1044efc-a2df-4b15-9bae-6b007ef0c8d8"
      },
      "execution_count": 24,
      "outputs": [
        {
          "name": "stdout",
          "output_type": "stream",
          "text": [
            "enter your name:shreya\n"
          ]
        }
      ]
    },
    {
      "cell_type": "code",
      "source": [
        "print(x)"
      ],
      "metadata": {
        "colab": {
          "base_uri": "https://localhost:8080/"
        },
        "id": "njG-Vjvowf_S",
        "outputId": "b83ce459-093a-4284-fa59-3acdb453daf9"
      },
      "execution_count": 25,
      "outputs": [
        {
          "output_type": "stream",
          "name": "stdout",
          "text": [
            "shreya\n"
          ]
        }
      ]
    },
    {
      "cell_type": "code",
      "source": [
        "x=input(\"enter your mark:\")"
      ],
      "metadata": {
        "colab": {
          "base_uri": "https://localhost:8080/"
        },
        "id": "10r7oIAdwrkB",
        "outputId": "ff22fa5b-8812-4688-9e69-696ef3ff808f"
      },
      "execution_count": 26,
      "outputs": [
        {
          "name": "stdout",
          "output_type": "stream",
          "text": [
            "enter your mark:87\n"
          ]
        }
      ]
    },
    {
      "cell_type": "code",
      "source": [
        "type(x)"
      ],
      "metadata": {
        "colab": {
          "base_uri": "https://localhost:8080/"
        },
        "id": "Hy0mvk3xwy5o",
        "outputId": "5050da19-8dd9-465a-bd25-db8a92d54f7e"
      },
      "execution_count": 27,
      "outputs": [
        {
          "output_type": "execute_result",
          "data": {
            "text/plain": [
              "str"
            ]
          },
          "metadata": {},
          "execution_count": 27
        }
      ]
    },
    {
      "cell_type": "code",
      "source": [
        "x=input(\"enter your name:\")\n",
        "x=input(\"enter your mark:\")\n",
        "x=input(\"enter your age:\")"
      ],
      "metadata": {
        "colab": {
          "base_uri": "https://localhost:8080/"
        },
        "id": "l4LPwXt-w7RK",
        "outputId": "2a192121-0a75-45c8-b261-0bcdfe61db95"
      },
      "execution_count": 28,
      "outputs": [
        {
          "name": "stdout",
          "output_type": "stream",
          "text": [
            "enter your name:keerthi\n",
            "enter your mark:87\n",
            "enter your age:45\n"
          ]
        }
      ]
    },
    {
      "cell_type": "code",
      "source": [
        "type(x)"
      ],
      "metadata": {
        "colab": {
          "base_uri": "https://localhost:8080/"
        },
        "id": "mGJnObMexMIY",
        "outputId": "32399c63-fcd4-48c8-f06a-08017085fc62"
      },
      "execution_count": 29,
      "outputs": [
        {
          "output_type": "execute_result",
          "data": {
            "text/plain": [
              "str"
            ]
          },
          "metadata": {},
          "execution_count": 29
        }
      ]
    },
    {
      "cell_type": "code",
      "source": [
        "x=int(input(\"enter your age:\"))"
      ],
      "metadata": {
        "colab": {
          "base_uri": "https://localhost:8080/"
        },
        "id": "d-ZnQr76xTXh",
        "outputId": "ff371ad6-685c-4e54-b520-4e77c3bcf440"
      },
      "execution_count": 30,
      "outputs": [
        {
          "name": "stdout",
          "output_type": "stream",
          "text": [
            "enter your age:43\n"
          ]
        }
      ]
    },
    {
      "cell_type": "code",
      "source": [
        "print(type(x))"
      ],
      "metadata": {
        "colab": {
          "base_uri": "https://localhost:8080/"
        },
        "id": "kVcndI28xoZw",
        "outputId": "d333b792-353b-4859-e35d-3a56a28b14cc"
      },
      "execution_count": 31,
      "outputs": [
        {
          "output_type": "stream",
          "name": "stdout",
          "text": [
            "<class 'int'>\n"
          ]
        }
      ]
    },
    {
      "cell_type": "code",
      "source": [
        "x=int(input(\"enter the first number:\"))\n",
        "y=int(input(\"enter the second number:\"))\n",
        "print(x+y,x-y,x*y,x/y,x%y)"
      ],
      "metadata": {
        "colab": {
          "base_uri": "https://localhost:8080/"
        },
        "id": "iITaLL-yx6kk",
        "outputId": "2a9c73e1-2a93-4b2a-ce6f-a1631ce1f19d"
      },
      "execution_count": 32,
      "outputs": [
        {
          "output_type": "stream",
          "name": "stdout",
          "text": [
            "enter the first number:2\n",
            "enter the second number:3\n",
            "5 -1 6 0.6666666666666666 2\n"
          ]
        }
      ]
    },
    {
      "cell_type": "code",
      "source": [
        "i=int(input(\"enter current (I):\"))\n",
        "r=int(input(\"enter resistance (R):\"))\n",
        "print('(Ohms law) v=' ,i*r)"
      ],
      "metadata": {
        "colab": {
          "base_uri": "https://localhost:8080/"
        },
        "id": "8tO94IFPyvQ-",
        "outputId": "1a3cb7c7-de3d-434b-c8b6-072127474c5a"
      },
      "execution_count": 33,
      "outputs": [
        {
          "output_type": "stream",
          "name": "stdout",
          "text": [
            "enter current (I):4\n",
            "enter resistance (R):5\n",
            "(Ohms law) v= 20\n"
          ]
        }
      ]
    },
    {
      "cell_type": "code",
      "source": [
        "x=int(input(\"Enter mark:\"))\n",
        "if x>=50:\n",
        "  if x==50:\n",
        "    print('just pass')\n",
        "  else:\n",
        "    print('pass')\n",
        "else:\n",
        "  print('fail')"
      ],
      "metadata": {
        "colab": {
          "base_uri": "https://localhost:8080/"
        },
        "id": "QkzzqR-d06qQ",
        "outputId": "dc55ac23-dd98-408e-8247-b87000d776be"
      },
      "execution_count": 34,
      "outputs": [
        {
          "output_type": "stream",
          "name": "stdout",
          "text": [
            "Enter mark:100\n",
            "pass\n"
          ]
        }
      ]
    },
    {
      "cell_type": "code",
      "source": [
        "x=int(input(\"Enter mark:\"))\n",
        "if x>0 and x<49:\n",
        "  print('first')\n",
        "if x>50 and x<60:\n",
        "  print('second')\n",
        "if x>61 and x<80:\n",
        "  print('third')\n",
        "if x>50 and x<60:\n",
        "  print('fourth')\n",
        "else: \n",
        "  print('distinction')\n",
        "  "
      ],
      "metadata": {
        "colab": {
          "base_uri": "https://localhost:8080/"
        },
        "id": "I_WQNbFd2ep1",
        "outputId": "0ba768ce-b778-486f-d697-2c8e1cab3d2e"
      },
      "execution_count": 35,
      "outputs": [
        {
          "output_type": "stream",
          "name": "stdout",
          "text": [
            "Enter mark:67\n",
            "third\n",
            "distinction\n"
          ]
        }
      ]
    },
    {
      "cell_type": "code",
      "source": [
        "x=int(input(\"enter mark:\"))\n",
        "if x>=80:\n",
        "  y=int(input(\"number of supply:\"))\n",
        "  if y==0:\n",
        "    print(\"distinction\")\n",
        "  else:\n",
        "    print('no distinction')\n",
        "else:\n",
        "  print('thankyou for the information')"
      ],
      "metadata": {
        "colab": {
          "base_uri": "https://localhost:8080/"
        },
        "id": "CMv9wEM35I9G",
        "outputId": "19c7132c-f3b6-41bd-f8f9-63400b6841aa"
      },
      "execution_count": 36,
      "outputs": [
        {
          "output_type": "stream",
          "name": "stdout",
          "text": [
            "enter mark:89\n",
            "number of supply:2\n",
            "no distinction\n"
          ]
        }
      ]
    },
    {
      "cell_type": "code",
      "source": [
        "x=int(input(\"enter a number:\"))\n",
        "if x%2==0:\n",
        "  print('even')\n",
        "else:\n",
        "  print('odd')\n"
      ],
      "metadata": {
        "colab": {
          "base_uri": "https://localhost:8080/"
        },
        "id": "EOuP_DA66WNb",
        "outputId": "eafa2703-14f0-45e2-adc6-94949ee58293"
      },
      "execution_count": 37,
      "outputs": [
        {
          "output_type": "stream",
          "name": "stdout",
          "text": [
            "enter a number:56\n",
            "even\n"
          ]
        }
      ]
    },
    {
      "cell_type": "code",
      "source": [
        "for k in range(10):\n",
        "  print (k)\n",
        "\n"
      ],
      "metadata": {
        "colab": {
          "base_uri": "https://localhost:8080/"
        },
        "id": "9gT47Mz2Iadx",
        "outputId": "573b293e-1e98-4e89-cde5-31a5e4392146"
      },
      "execution_count": 38,
      "outputs": [
        {
          "output_type": "stream",
          "name": "stdout",
          "text": [
            "0\n",
            "1\n",
            "2\n",
            "3\n",
            "4\n",
            "5\n",
            "6\n",
            "7\n",
            "8\n",
            "9\n"
          ]
        }
      ]
    },
    {
      "cell_type": "code",
      "source": [
        "for k in range(10):\n",
        "  if k%2==0:\n",
        "    print(k)\n",
        " "
      ],
      "metadata": {
        "colab": {
          "base_uri": "https://localhost:8080/"
        },
        "id": "rLsUFUh3K0LE",
        "outputId": "11e748a5-9b75-4b67-cf3a-8590a9eebf38"
      },
      "execution_count": 39,
      "outputs": [
        {
          "output_type": "stream",
          "name": "stdout",
          "text": [
            "0\n",
            "2\n",
            "4\n",
            "6\n",
            "8\n"
          ]
        }
      ]
    },
    {
      "cell_type": "code",
      "source": [
        "sum=0\n",
        "for k in range(10):\n",
        "    sum=sum+k\n",
        "print(sum)"
      ],
      "metadata": {
        "colab": {
          "base_uri": "https://localhost:8080/"
        },
        "id": "xOMnBaNkLHwr",
        "outputId": "1b8f0a60-704d-4f23-d746-4c21cf7b1134"
      },
      "execution_count": 40,
      "outputs": [
        {
          "output_type": "stream",
          "name": "stdout",
          "text": [
            "45\n"
          ]
        }
      ]
    },
    {
      "cell_type": "code",
      "source": [
        "sum=0\n",
        "for k in range(101):\n",
        "  if k%2==0:\n",
        "    sum=sum+k\n",
        "print(sum)\n"
      ],
      "metadata": {
        "colab": {
          "base_uri": "https://localhost:8080/"
        },
        "id": "9DRZ0sM9Pj9-",
        "outputId": "57c88d67-966f-4f8b-9804-011801e573be"
      },
      "execution_count": 41,
      "outputs": [
        {
          "output_type": "stream",
          "name": "stdout",
          "text": [
            "2550\n"
          ]
        }
      ]
    },
    {
      "cell_type": "code",
      "source": [
        "#multiply from 1-100\n",
        "sum=1\n",
        "for k in range(1,101):\n",
        "\n",
        "  sum=sum*k\n",
        "\n",
        "print(sum)"
      ],
      "metadata": {
        "colab": {
          "base_uri": "https://localhost:8080/"
        },
        "id": "jkpOyBYYNB2K",
        "outputId": "f096d9a1-ee17-4775-d830-e16e2bdf9451"
      },
      "execution_count": 42,
      "outputs": [
        {
          "output_type": "stream",
          "name": "stdout",
          "text": [
            "93326215443944152681699238856266700490715968264381621468592963895217599993229915608941463976156518286253697920827223758251185210916864000000000000000000000000\n"
          ]
        }
      ]
    },
    {
      "cell_type": "code",
      "source": [
        "#input a number and then choose to end or continue\n",
        "#if continue then enter a new number and add with the previous number\n",
        "sum=0 \n",
        "for k in range(100): #maximum number of inputs is 100\n",
        "  x=int(input(\"enter a number:\"))\n",
        "  y=int(input(\"0 or 1:\")) #0 for final or else to continue click 1\n",
        "\n",
        "  if y==0:\n",
        "    break;\n",
        "    print(x)\n",
        "\n",
        "  if y==1:\n",
        "    sum=sum+x\n",
        "    print(sum)\n",
        "     \n",
        "\n"
      ],
      "metadata": {
        "colab": {
          "base_uri": "https://localhost:8080/"
        },
        "id": "QYHEwnkqVAxt",
        "outputId": "778e578e-f2d5-4552-de92-e08c9f36e8c4"
      },
      "execution_count": 43,
      "outputs": [
        {
          "name": "stdout",
          "output_type": "stream",
          "text": [
            "enter a number:78\n",
            "0 or 1:0\n"
          ]
        }
      ]
    },
    {
      "cell_type": "code",
      "source": [
        "k=0 #print numbers from 1-100 using while loop\n",
        "while(k<100):\n",
        "  print(k)\n",
        "  k=k+1"
      ],
      "metadata": {
        "colab": {
          "base_uri": "https://localhost:8080/"
        },
        "id": "xJe0N20haftj",
        "outputId": "47ba98a0-d262-4b5c-decd-49b2eff12734"
      },
      "execution_count": 44,
      "outputs": [
        {
          "output_type": "stream",
          "name": "stdout",
          "text": [
            "0\n",
            "1\n",
            "2\n",
            "3\n",
            "4\n",
            "5\n",
            "6\n",
            "7\n",
            "8\n",
            "9\n",
            "10\n",
            "11\n",
            "12\n",
            "13\n",
            "14\n",
            "15\n",
            "16\n",
            "17\n",
            "18\n",
            "19\n",
            "20\n",
            "21\n",
            "22\n",
            "23\n",
            "24\n",
            "25\n",
            "26\n",
            "27\n",
            "28\n",
            "29\n",
            "30\n",
            "31\n",
            "32\n",
            "33\n",
            "34\n",
            "35\n",
            "36\n",
            "37\n",
            "38\n",
            "39\n",
            "40\n",
            "41\n",
            "42\n",
            "43\n",
            "44\n",
            "45\n",
            "46\n",
            "47\n",
            "48\n",
            "49\n",
            "50\n",
            "51\n",
            "52\n",
            "53\n",
            "54\n",
            "55\n",
            "56\n",
            "57\n",
            "58\n",
            "59\n",
            "60\n",
            "61\n",
            "62\n",
            "63\n",
            "64\n",
            "65\n",
            "66\n",
            "67\n",
            "68\n",
            "69\n",
            "70\n",
            "71\n",
            "72\n",
            "73\n",
            "74\n",
            "75\n",
            "76\n",
            "77\n",
            "78\n",
            "79\n",
            "80\n",
            "81\n",
            "82\n",
            "83\n",
            "84\n",
            "85\n",
            "86\n",
            "87\n",
            "88\n",
            "89\n",
            "90\n",
            "91\n",
            "92\n",
            "93\n",
            "94\n",
            "95\n",
            "96\n",
            "97\n",
            "98\n",
            "99\n"
          ]
        }
      ]
    },
    {
      "cell_type": "code",
      "source": [
        "sum=0 #add numbers from 1-100\n",
        "k=0\n",
        "while k<=100:\n",
        "  sum=sum+k\n",
        "  k=k+1\n",
        "  \n",
        "print(sum)\n"
      ],
      "metadata": {
        "colab": {
          "base_uri": "https://localhost:8080/"
        },
        "id": "pT_jKALwavbL",
        "outputId": "655bcbba-6c74-487a-9647-9442c91f25ea"
      },
      "execution_count": 45,
      "outputs": [
        {
          "output_type": "stream",
          "name": "stdout",
          "text": [
            "5050\n"
          ]
        }
      ]
    },
    {
      "cell_type": "code",
      "source": [
        "sum=0 #add odd numbers from 1-100\n",
        "k=0\n",
        "while k<=100:\n",
        "  if k%2!=0:\n",
        "    sum=sum+k\n",
        "  k=k+1\n",
        "  \n",
        "print(sum)\n"
      ],
      "metadata": {
        "colab": {
          "base_uri": "https://localhost:8080/"
        },
        "id": "y7iKw7W4dfwx",
        "outputId": "89417763-ab41-420e-ef85-1c0ac1b56e8e"
      },
      "execution_count": 46,
      "outputs": [
        {
          "output_type": "stream",
          "name": "stdout",
          "text": [
            "2500\n"
          ]
        }
      ]
    },
    {
      "cell_type": "code",
      "source": [
        "for k in range(100):\n",
        "  if k%2!=0:\n",
        "    continue;\n",
        "  print(k)"
      ],
      "metadata": {
        "id": "Z6MIMNPBgCRD",
        "colab": {
          "base_uri": "https://localhost:8080/"
        },
        "outputId": "d3bdb24a-c0ff-4d26-f995-a13bdae106c9"
      },
      "execution_count": 47,
      "outputs": [
        {
          "output_type": "stream",
          "name": "stdout",
          "text": [
            "0\n",
            "2\n",
            "4\n",
            "6\n",
            "8\n",
            "10\n",
            "12\n",
            "14\n",
            "16\n",
            "18\n",
            "20\n",
            "22\n",
            "24\n",
            "26\n",
            "28\n",
            "30\n",
            "32\n",
            "34\n",
            "36\n",
            "38\n",
            "40\n",
            "42\n",
            "44\n",
            "46\n",
            "48\n",
            "50\n",
            "52\n",
            "54\n",
            "56\n",
            "58\n",
            "60\n",
            "62\n",
            "64\n",
            "66\n",
            "68\n",
            "70\n",
            "72\n",
            "74\n",
            "76\n",
            "78\n",
            "80\n",
            "82\n",
            "84\n",
            "86\n",
            "88\n",
            "90\n",
            "92\n",
            "94\n",
            "96\n",
            "98\n"
          ]
        }
      ]
    },
    {
      "cell_type": "code",
      "source": [
        "x=[1,2,4,56,55.4,9,2]\n",
        "print(x[0])\n",
        "print(x[-1])"
      ],
      "metadata": {
        "colab": {
          "base_uri": "https://localhost:8080/"
        },
        "id": "05fv14yMkZ7Z",
        "outputId": "84aeeeb4-1732-4b67-b70a-cded1913f442"
      },
      "execution_count": 48,
      "outputs": [
        {
          "output_type": "stream",
          "name": "stdout",
          "text": [
            "1\n",
            "2\n"
          ]
        }
      ]
    },
    {
      "cell_type": "code",
      "source": [
        "x=[1,2,4,56,55.4,9,2]\n",
        "print(x[0:4])\n"
      ],
      "metadata": {
        "id": "26VSSJcGm8Du",
        "colab": {
          "base_uri": "https://localhost:8080/"
        },
        "outputId": "dca303ab-d84d-4793-99b5-143d5d9669b7"
      },
      "execution_count": 49,
      "outputs": [
        {
          "output_type": "stream",
          "name": "stdout",
          "text": [
            "[1, 2, 4, 56]\n"
          ]
        }
      ]
    },
    {
      "cell_type": "code",
      "source": [
        "x=[1,2,4,56,55.4,9,2]\n",
        "\n",
        "print(x[-2:])"
      ],
      "metadata": {
        "colab": {
          "base_uri": "https://localhost:8080/"
        },
        "id": "tdNZ7uJrn3Ro",
        "outputId": "8b110500-22b0-444d-ac95-d79be3d62b53"
      },
      "execution_count": 50,
      "outputs": [
        {
          "output_type": "stream",
          "name": "stdout",
          "text": [
            "[9, 2]\n"
          ]
        }
      ]
    },
    {
      "cell_type": "code",
      "source": [
        "x=[1,2,4,56,55.4,9,2]\n",
        "x.append(\"shreya\")\n",
        "print(x)"
      ],
      "metadata": {
        "colab": {
          "base_uri": "https://localhost:8080/"
        },
        "id": "pXhg_nSgoKKG",
        "outputId": "af80b3d3-7a90-4a7e-8cc7-dbedc645df29"
      },
      "execution_count": 51,
      "outputs": [
        {
          "output_type": "stream",
          "name": "stdout",
          "text": [
            "[1, 2, 4, 56, 55.4, 9, 2, 'shreya']\n"
          ]
        }
      ]
    },
    {
      "cell_type": "code",
      "source": [
        "x=[\"keerthi\",\"ruby\",\"basith\"]\n",
        "x.insert(1,\"abhinav\")\n",
        "print(x)"
      ],
      "metadata": {
        "colab": {
          "base_uri": "https://localhost:8080/"
        },
        "id": "gQoRAooAqVWC",
        "outputId": "03d6f592-f3db-4f1f-d30b-e8b8bee4ab34"
      },
      "execution_count": 52,
      "outputs": [
        {
          "output_type": "stream",
          "name": "stdout",
          "text": [
            "['keerthi', 'abhinav', 'ruby', 'basith']\n"
          ]
        }
      ]
    },
    {
      "cell_type": "code",
      "source": [
        "x=[\"keerthi\",\"ruby\",\"basith\"]\n",
        "x.insert(1,\"abhinav\")\n",
        "x[2]=(\"aavani\")\n",
        "x[0]=(\"basith\")\n",
        "x[-1]=(\"keerthi\")\n",
        "print(x)"
      ],
      "metadata": {
        "colab": {
          "base_uri": "https://localhost:8080/"
        },
        "id": "iGDpy9Wbq5ci",
        "outputId": "822a4f5e-e643-4fec-b818-a1c4b1aa0e7c"
      },
      "execution_count": 53,
      "outputs": [
        {
          "output_type": "stream",
          "name": "stdout",
          "text": [
            "['basith', 'abhinav', 'aavani', 'keerthi']\n"
          ]
        }
      ]
    }
  ]
}