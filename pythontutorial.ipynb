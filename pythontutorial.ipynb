{
  "nbformat": 4,
  "nbformat_minor": 0,
  "metadata": {
    "colab": {
      "provenance": [],
      "authorship_tag": "ABX9TyOLkJ8elUo7dpKKliFckz52",
      "include_colab_link": true
    },
    "kernelspec": {
      "name": "python3",
      "display_name": "Python 3"
    },
    "language_info": {
      "name": "python"
    }
  },
  "cells": [
    {
      "cell_type": "markdown",
      "metadata": {
        "id": "view-in-github",
        "colab_type": "text"
      },
      "source": [
        "<a href=\"https://colab.research.google.com/github/ShreyaAnand1316/Introduction-to-Python/blob/main/pythontutorial.ipynb\" target=\"_parent\"><img src=\"https://colab.research.google.com/assets/colab-badge.svg\" alt=\"Open In Colab\"/></a>"
      ]
    },
    {
      "cell_type": "code",
      "execution_count": null,
      "metadata": {
        "colab": {
          "base_uri": "https://localhost:8080/"
        },
        "id": "ZNGEIMJ8e_ur",
        "outputId": "f4eb21a2-1237-4c44-b675-0f0c0dc7750f"
      },
      "outputs": [
        {
          "name": "stdout",
          "output_type": "stream",
          "text": [
            "enter 1st number2\n",
            "enter 2nd number 1\n"
          ]
        },
        {
          "output_type": "execute_result",
          "data": {
            "text/plain": [
              "0"
            ]
          },
          "metadata": {},
          "execution_count": 4
        }
      ],
      "source": [
        "a=int(input('enter 1st number'))\n",
        "b=int(input('enter 2nd number '))\n",
        "a/b\n",
        "a%b\n"
      ]
    },
    {
      "cell_type": "code",
      "source": [
        "num=int(input('enter number'))\n",
        "if num%2==0:\n",
        "  print('even')\n",
        "else:\n",
        "  print('odd')"
      ],
      "metadata": {
        "colab": {
          "base_uri": "https://localhost:8080/"
        },
        "id": "sDuyDS-cgz9I",
        "outputId": "4e055534-3a91-46d9-9874-0d72e82a8612"
      },
      "execution_count": null,
      "outputs": [
        {
          "output_type": "stream",
          "name": "stdout",
          "text": [
            "enter number2\n",
            "even\n"
          ]
        }
      ]
    },
    {
      "cell_type": "code",
      "source": [
        "a=int(input('enter 1st number'))\n",
        "b=int(input('enter 2nd number '))\n",
        "\n",
        "if a>=b:\n",
        "  if a==b:\n",
        "    print(a,'is equal to',b)\n",
        "  else:\n",
        "    print(a,'greater than',b)\n",
        "else:\n",
        "  print(a,'less than',b)"
      ],
      "metadata": {
        "colab": {
          "base_uri": "https://localhost:8080/"
        },
        "id": "StICJeS8h04F",
        "outputId": "15621d4b-198f-434b-bbb0-3324bd183742"
      },
      "execution_count": null,
      "outputs": [
        {
          "output_type": "stream",
          "name": "stdout",
          "text": [
            "enter 1st number3\n",
            "enter 2nd number 4\n",
            "3 less than 4\n"
          ]
        }
      ]
    },
    {
      "cell_type": "code",
      "source": [
        "a=10\n",
        "b=20\n",
        "c=30\n",
        "if a>b:\n",
        "  if a>c:\n",
        "    print(a,'is largest' )\n",
        "  else:\n",
        "    print(c,'is largest')\n",
        "else:\n",
        "  if b>c:\n",
        "     print(b,'is largest')\n",
        "  else:\n",
        "     print(c,'is largest')"
      ],
      "metadata": {
        "colab": {
          "base_uri": "https://localhost:8080/"
        },
        "id": "o34DsgYZjU5x",
        "outputId": "0eb57cd6-0325-4c7e-b913-8ffe8b981b36"
      },
      "execution_count": null,
      "outputs": [
        {
          "output_type": "stream",
          "name": "stdout",
          "text": [
            "30 is largest\n"
          ]
        }
      ]
    },
    {
      "cell_type": "code",
      "source": [
        "#loop statements\n",
        "i=1\n",
        "while i<=10:\n",
        "  print(i)\n",
        "  i=i+1"
      ],
      "metadata": {
        "colab": {
          "base_uri": "https://localhost:8080/"
        },
        "id": "_2eZ5zd_nkPK",
        "outputId": "903845b9-ec39-453a-db46-58b547854f0b"
      },
      "execution_count": null,
      "outputs": [
        {
          "output_type": "stream",
          "name": "stdout",
          "text": [
            "1\n",
            "2\n",
            "3\n",
            "4\n",
            "5\n",
            "6\n",
            "7\n",
            "8\n",
            "9\n",
            "10\n"
          ]
        }
      ]
    },
    {
      "cell_type": "code",
      "source": [
        "i=1\n",
        "while i<=10:\n",
        "  print(i)\n",
        "  i+=1"
      ],
      "metadata": {
        "colab": {
          "base_uri": "https://localhost:8080/"
        },
        "id": "nWg-tpX-pbUs",
        "outputId": "15bda6f8-4815-4f4e-c2da-a4ec05cc5601"
      },
      "execution_count": null,
      "outputs": [
        {
          "output_type": "stream",
          "name": "stdout",
          "text": [
            "1\n",
            "2\n",
            "3\n",
            "4\n",
            "5\n",
            "6\n",
            "7\n",
            "8\n",
            "9\n",
            "10\n"
          ]
        }
      ]
    },
    {
      "cell_type": "code",
      "source": [
        "i=20\n",
        "while i<=50:\n",
        "  print(i)\n",
        "  i+=2\n"
      ],
      "metadata": {
        "colab": {
          "base_uri": "https://localhost:8080/"
        },
        "id": "DRhCbCUBpe51",
        "outputId": "eb0d4eb7-ea06-41c4-cccb-1efd18df9401"
      },
      "execution_count": null,
      "outputs": [
        {
          "output_type": "stream",
          "name": "stdout",
          "text": [
            "20\n",
            "22\n",
            "24\n",
            "26\n",
            "28\n",
            "30\n",
            "32\n",
            "34\n",
            "36\n",
            "38\n",
            "40\n",
            "42\n",
            "44\n",
            "46\n",
            "48\n",
            "50\n"
          ]
        }
      ]
    },
    {
      "cell_type": "code",
      "source": [
        "i=21\n",
        "while i<=59:\n",
        "  print(i)\n",
        "  i+=2\n"
      ],
      "metadata": {
        "colab": {
          "base_uri": "https://localhost:8080/"
        },
        "id": "WFLy49IyqcJc",
        "outputId": "60d64000-cf98-424c-d6b7-7a77fa41bdac"
      },
      "execution_count": null,
      "outputs": [
        {
          "output_type": "stream",
          "name": "stdout",
          "text": [
            "21\n",
            "23\n",
            "25\n",
            "27\n",
            "29\n",
            "31\n",
            "33\n",
            "35\n",
            "37\n",
            "39\n",
            "41\n",
            "43\n",
            "45\n",
            "47\n",
            "49\n",
            "51\n",
            "53\n",
            "55\n",
            "57\n",
            "59\n"
          ]
        }
      ]
    },
    {
      "cell_type": "code",
      "source": [
        "a=int(input('enter a number'))\n",
        "i=1\n",
        "while i<=10:\n",
        "  print(a,'*',i,'=',a*i)\n",
        "  i+=1\n"
      ],
      "metadata": {
        "colab": {
          "base_uri": "https://localhost:8080/"
        },
        "id": "moOSKxzVrVm9",
        "outputId": "d4b5afc7-eae4-43d2-c122-47cc54c0a124"
      },
      "execution_count": null,
      "outputs": [
        {
          "output_type": "stream",
          "name": "stdout",
          "text": [
            "enter a number2\n",
            "2 * 1 = 2\n",
            "2 * 2 = 4\n",
            "2 * 3 = 6\n",
            "2 * 4 = 8\n",
            "2 * 5 = 10\n",
            "2 * 6 = 12\n",
            "2 * 7 = 14\n",
            "2 * 8 = 16\n",
            "2 * 9 = 18\n",
            "2 * 10 = 20\n"
          ]
        }
      ]
    },
    {
      "cell_type": "code",
      "source": [
        " sum=0\n",
        " for i in range (1,10):\n",
        "   sum=sum+i\n",
        "print (sum)"
      ],
      "metadata": {
        "colab": {
          "base_uri": "https://localhost:8080/"
        },
        "id": "aSg-4RJUs-t1",
        "outputId": "7852c37c-e7c1-4735-9bf0-631d452fbc62"
      },
      "execution_count": null,
      "outputs": [
        {
          "output_type": "stream",
          "name": "stdout",
          "text": [
            "45\n"
          ]
        }
      ]
    },
    {
      "cell_type": "code",
      "source": [
        "even=0\n",
        "odd=0\n",
        "for i in range (1,20):\n",
        "   if i%2==0:\n",
        "    even=even+i\n",
        "   else:\n",
        "    odd=odd+i\n",
        "\n",
        "print ('even sum=',even)\n",
        "print ('odd sum=',odd)\n",
        "    \n",
        "\n"
      ],
      "metadata": {
        "colab": {
          "base_uri": "https://localhost:8080/"
        },
        "id": "ctwsDEshwCAL",
        "outputId": "3850568b-2174-413f-8bba-ccafda561ea1"
      },
      "execution_count": null,
      "outputs": [
        {
          "output_type": "stream",
          "name": "stdout",
          "text": [
            "even sum= 90\n",
            "odd sum= 100\n"
          ]
        }
      ]
    },
    {
      "cell_type": "code",
      "source": [
        "#prime\n",
        "a=int(input('enter a number'))\n",
        "flag=False\n",
        "for i in range (2,a):\n",
        "  if a%i==0:\n",
        "    flag=True\n",
        "    break\n",
        "\n",
        "if flag==True:\n",
        "  print('not prime')\n",
        "else:\n",
        "  print('prime')\n",
        " "
      ],
      "metadata": {
        "colab": {
          "base_uri": "https://localhost:8080/"
        },
        "id": "K5jb6qFcv74W",
        "outputId": "2e4ca8a2-4ed1-4fac-e7fc-4ea7075320d9"
      },
      "execution_count": null,
      "outputs": [
        {
          "output_type": "stream",
          "name": "stdout",
          "text": [
            "enter a number8\n",
            "not prime\n"
          ]
        }
      ]
    },
    {
      "cell_type": "code",
      "source": [
        "#read no. and check if its binary or not\n",
        "num=int(input('enter a number'))\n",
        "while num>0:\n",
        "  d=num%10\n",
        "  if d!=0 and d!=1:\n",
        "    print('not a binary number')\n",
        "    break\n",
        "  num=num//10\n",
        "  if num==0:\n",
        "    print('binary number')\n",
        "\n",
        "\n"
      ],
      "metadata": {
        "colab": {
          "base_uri": "https://localhost:8080/"
        },
        "id": "NkkWi3D64v2X",
        "outputId": "25f81258-1bca-4a58-9d25-03822306fb5b"
      },
      "execution_count": null,
      "outputs": [
        {
          "output_type": "stream",
          "name": "stdout",
          "text": [
            "enter a number101\n",
            "binary number\n"
          ]
        }
      ]
    },
    {
      "cell_type": "code",
      "source": [
        "num=int(input('enter a number'))\n",
        "while num>0:"
      ],
      "metadata": {
        "id": "AVWe6uoO_yFT"
      },
      "execution_count": null,
      "outputs": []
    },
    {
      "cell_type": "code",
      "source": [
        "\n"
      ],
      "metadata": {
        "id": "iKpB2CMP6GF_"
      },
      "execution_count": null,
      "outputs": []
    }
  ]
}